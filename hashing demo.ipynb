{
 "cells": [
  {
   "cell_type": "code",
   "execution_count": 2,
   "id": "f8d9901d-6186-441f-ac1c-1add5d968424",
   "metadata": {},
   "outputs": [],
   "source": [
    "import hashlib\n",
    "import getpass"
   ]
  },
  {
   "cell_type": "code",
   "execution_count": 4,
   "id": "66e58299-abb9-427b-9c61-b8560f6abdb6",
   "metadata": {},
   "outputs": [],
   "source": [
    "def hash_my_password(password):\n",
    "    hash_pwd = hashlib.sha256(password.encode()).hexdigest()\n",
    "    return hash_pwd"
   ]
  },
  {
   "cell_type": "code",
   "execution_count": 16,
   "id": "dbd5984c-2b2f-44af-9a15-8f27bd6d06e7",
   "metadata": {},
   "outputs": [
    {
     "name": "stdin",
     "output_type": "stream",
     "text": [
      "Enter you Password:  ········\n"
     ]
    },
    {
     "name": "stdout",
     "output_type": "stream",
     "text": [
      "Password:  dhruv\n",
      "Hashed Password:  0b3659243e3eb91cd2da518ebbad79997209e1284fe70756b3e8b8bc8701ac83\n"
     ]
    }
   ],
   "source": [
    "# password = input(\"Enter you Password: \")\n",
    "password = getpass.getpass(\"Enter you Password: \")\n",
    "print(\"Password: \", password)\n",
    "hash_pass = hash_my_password(password)\n",
    "print(\"Hashed Password: \", hash_pass)"
   ]
  },
  {
   "cell_type": "code",
   "execution_count": null,
   "id": "716b3396-2eb9-4129-bd8e-ca3346919431",
   "metadata": {},
   "outputs": [],
   "source": []
  }
 ],
 "metadata": {
  "kernelspec": {
   "display_name": "Python [conda env:base] *",
   "language": "python",
   "name": "conda-base-py"
  },
  "language_info": {
   "codemirror_mode": {
    "name": "ipython",
    "version": 3
   },
   "file_extension": ".py",
   "mimetype": "text/x-python",
   "name": "python",
   "nbconvert_exporter": "python",
   "pygments_lexer": "ipython3",
   "version": "3.11.5"
  },
  "widgets": {
   "application/vnd.jupyter.widget-state+json": {
    "state": {},
    "version_major": 2,
    "version_minor": 0
   }
  }
 },
 "nbformat": 4,
 "nbformat_minor": 5
}
